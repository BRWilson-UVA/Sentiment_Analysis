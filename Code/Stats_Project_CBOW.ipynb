{
 "cells": [
  {
   "cell_type": "markdown",
   "id": "2bc608bb-e965-45d6-99da-697d3499a172",
   "metadata": {},
   "source": [
    "# 8. Appendix A"
   ]
  },
  {
   "cell_type": "markdown",
   "id": "358fb9fe-69f5-47eb-bf2a-4fba7d36f879",
   "metadata": {},
   "source": [
    "## 8.1 Word Embedding with Continous Bag Of Words (CBOW) Approach"
   ]
  },
  {
   "cell_type": "markdown",
   "id": "25923b8e-ea3b-422f-9051-dc0912cd0491",
   "metadata": {},
   "source": [
    "Given the greater development of python libraries for word embedding, the following appendix has been added to provide transparency into how it is performed."
   ]
  },
  {
   "cell_type": "markdown",
   "id": "8fbe97ae-b7da-4f87-b5c0-50baa644e78c",
   "metadata": {},
   "source": [
    "We will be using the python packages of:\n",
    "* numpy for computing and data prep\n",
    "* keras for reducing cognitive load\n",
    "* gensim for topic modeling"
   ]
  },
  {
   "cell_type": "code",
   "execution_count": 1,
   "id": "2a9acdbc-4d76-46a8-8ff8-12661904fba6",
   "metadata": {},
   "outputs": [],
   "source": [
    "import numpy as np\n",
    "import keras.backend as K\n",
    "from keras.models import Sequential\n",
    "from keras.layers import Dense, Embedding, Lambda\n",
    "from keras.utils import np_utils\n",
    "from keras.preprocessing import sequence\n",
    "from keras.preprocessing.text import Tokenizer\n",
    "import gensim"
   ]
  },
  {
   "cell_type": "markdown",
   "id": "ca90fdec-2dbc-4b61-af89-29164e4d1201",
   "metadata": {},
   "source": [
    "We have tagged each review with either a neutral, positive or negative sentiment based on the star rating. "
   ]
  },
  {
   "cell_type": "code",
   "execution_count": 2,
   "id": "6cf0a936-4651-4c2b-9402-f1c215d6a0cd",
   "metadata": {},
   "outputs": [],
   "source": [
    "data = open('yelp.txt','r')\n",
    "corona_data = [text for text in data if text.count(' ') >= 2]\n",
    "vectorize = Tokenizer()\n",
    "vectorize.fit_on_texts(corona_data)\n",
    "corona_data = vectorize.texts_to_sequences(corona_data)\n",
    "total_vocab = sum(len(s) for s in corona_data)\n",
    "word_count = len(vectorize.word_index) + 1\n",
    "window_size = 2"
   ]
  },
  {
   "cell_type": "markdown",
   "id": "26c04948-bd1f-44a5-957c-fb0c27a043bd",
   "metadata": {},
   "source": [
    "We will generate pairs of the context words and the target words."
   ]
  },
  {
   "cell_type": "code",
   "execution_count": 3,
   "id": "50c00831-738d-40ee-9067-31bf1c6b4cda",
   "metadata": {},
   "outputs": [],
   "source": [
    "def cbow_model(data, window_size, total_vocab):\n",
    "    total_length = window_size*2\n",
    "    for text in data:\n",
    "        text_len = len(text)\n",
    "        for idx, word in enumerate(text):\n",
    "            context_word = []\n",
    "            target   = []            \n",
    "            begin = idx - window_size\n",
    "            end = idx + window_size + 1\n",
    "            context_word.append([text[i] for i in range(begin, end) if \n",
    "                                 0 <= i < text_len and i != idx])\n",
    "            target.append(word)\n",
    "            contextual = sequence.pad_sequences(context_word, \n",
    "                                                total_length=total_length)\n",
    "            final_target = np_utils.to_categorical(target, total_vocab)\n",
    "            yield(contextual, final_target) "
   ]
  },
  {
   "cell_type": "markdown",
   "id": "69143b61-c0d6-4532-b677-41511087f324",
   "metadata": {},
   "source": [
    "We will build the neural network model that will train the CBOW on our sample data."
   ]
  },
  {
   "cell_type": "code",
   "execution_count": 4,
   "id": "3fbe5e5d-04dc-416b-9192-2f445e628427",
   "metadata": {},
   "outputs": [
    {
     "name": "stdout",
     "output_type": "stream",
     "text": [
      "0 0\n",
      "1 0\n",
      "2 0\n",
      "3 0\n",
      "4 0\n",
      "5 0\n",
      "6 0\n",
      "7 0\n",
      "8 0\n",
      "9 0\n"
     ]
    }
   ],
   "source": [
    "model = Sequential()\n",
    "model.add(Embedding(input_dim=total_vocab, output_dim=100, \n",
    "                    input_length=window_size*2))\n",
    "model.add(Lambda(lambda x: K.mean(x, axis=1), output_shape=(100,)))\n",
    "model.add(Dense(total_vocab, activation='softmax'))\n",
    "model.compile(loss='categorical_crossentropy', optimizer='adam')\n",
    "for i in range(10):\n",
    "    cost = 0\n",
    "    for x, y in cbow_model(data, window_size, total_vocab):\n",
    "        cost += model.train_on_batch(contextual, final_target)\n",
    "    print(i, cost)"
   ]
  },
  {
   "cell_type": "markdown",
   "id": "b9d13d3e-301f-45b4-8172-0ba4ea662d42",
   "metadata": {},
   "source": [
    "We will perform the vector file creation."
   ]
  },
  {
   "cell_type": "code",
   "execution_count": 5,
   "id": "c4c39c0c-9db3-4dc5-9fc2-5de34db2e2e1",
   "metadata": {},
   "outputs": [
    {
     "data": {
      "text/plain": [
       "8"
      ]
     },
     "execution_count": 5,
     "metadata": {},
     "output_type": "execute_result"
    }
   ],
   "source": [
    "dimensions=100\n",
    "vect_file = open('vectors.txt','w')\n",
    "vect_file.write('{} {}\\n'.format(len(vectorize.word_index.items()), dimensions))"
   ]
  },
  {
   "cell_type": "code",
   "execution_count": 6,
   "id": "644fef34-fa55-4ee0-9a91-1b9f198c5220",
   "metadata": {},
   "outputs": [],
   "source": [
    "weights = model.get_weights()[0]\n",
    "for text, i in vectorize.word_index.items():\n",
    "    final_vec = ' '.join(map(str, list(weights[i, :])))\n",
    "    vect_file.write('{} {}\\n'.format(text, final_vec))\n",
    "vect_file.close()"
   ]
  },
  {
   "cell_type": "markdown",
   "id": "0fbc808b-35d0-42cb-81dd-c081e6247e87",
   "metadata": {},
   "source": [
    "We will use the vector file in gensim model with the example word \"neutral\"."
   ]
  },
  {
   "cell_type": "code",
   "execution_count": 8,
   "id": "602d96ce-bd22-4f98-8f4f-cbd332a0a613",
   "metadata": {},
   "outputs": [
    {
     "data": {
      "text/plain": [
       "[('fit', 0.26622945070266724),\n",
       " ('very', 0.24694503843784332),\n",
       " ('outside', 0.22985662519931793),\n",
       " ('cycle', 0.22688570618629456),\n",
       " ('did', 0.20111840963363647),\n",
       " ('smile', 0.19902928173542023),\n",
       " ('his', 0.19888196885585785),\n",
       " ('young', 0.19812779128551483),\n",
       " ('have', 0.19288483262062073),\n",
       " ('where', 0.18997474014759064)]"
      ]
     },
     "execution_count": 8,
     "metadata": {},
     "output_type": "execute_result"
    }
   ],
   "source": [
    "cbow_output = gensim.models.KeyedVectors.load_word2vec_format('vectors.txt', \n",
    "                                                              binary=False)\n",
    "cbow_output.most_similar(positive=['neutral'])"
   ]
  },
  {
   "cell_type": "markdown",
   "id": "54f6cdd0-be16-4f22-8d48-c019256e45e5",
   "metadata": {},
   "source": [
    "The above output shows all the words that are related to the review that was tagged neutral."
   ]
  },
  {
   "cell_type": "code",
   "execution_count": 11,
   "id": "de1c020a-d099-4839-8d1d-1c379958206e",
   "metadata": {},
   "outputs": [
    {
     "data": {
      "text/plain": [
       "[('nice', 0.2773880362510681),\n",
       " ('good', 0.19985781610012054),\n",
       " ('too', 0.17834430932998657),\n",
       " ('instructors', 0.16947823762893677),\n",
       " ('ideas', 0.16248522698879242),\n",
       " ('up', 0.15913422405719757),\n",
       " ('all', 0.14724114537239075),\n",
       " ('struggles', 0.1456916332244873),\n",
       " ('over', 0.14495055377483368),\n",
       " ('here', 0.14492066204547882)]"
      ]
     },
     "execution_count": 11,
     "metadata": {},
     "output_type": "execute_result"
    }
   ],
   "source": [
    "cbow_output.most_similar(positive=['positive'])"
   ]
  },
  {
   "cell_type": "markdown",
   "id": "32112970-f4ca-4c2f-af9d-f4c7f4d7a7f2",
   "metadata": {},
   "source": [
    "The above output shows all the words that are related to the review that was tagged positive."
   ]
  },
  {
   "cell_type": "markdown",
   "id": "976a7c3d-0dfb-4eb3-b511-12189b65929e",
   "metadata": {},
   "source": [
    "After generating word vectors using CBOW, we can use Convolutional Neural Network (CNN) to train through labeled training set to capture the semantic features of the text."
   ]
  },
  {
   "cell_type": "markdown",
   "id": "d1086557-f821-4947-b365-19b2c3c3c838",
   "metadata": {},
   "source": [
    "Note: We just tagged each review with postive, neutral and negative just for the above example purpose to demonstrate how CBOW can generated related words. To actually build a sentiment analysis model we would have to use CNN on top of the wordvector as mentioned above."
   ]
  },
  {
   "cell_type": "code",
   "execution_count": null,
   "id": "75ceb19b-67fa-425f-a321-f61ec4e0e860",
   "metadata": {},
   "outputs": [],
   "source": []
  }
 ],
 "metadata": {
  "kernelspec": {
   "display_name": "Python 3 (ipykernel)",
   "language": "python",
   "name": "python3"
  },
  "language_info": {
   "codemirror_mode": {
    "name": "ipython",
    "version": 3
   },
   "file_extension": ".py",
   "mimetype": "text/x-python",
   "name": "python",
   "nbconvert_exporter": "python",
   "pygments_lexer": "ipython3",
   "version": "3.9.13"
  }
 },
 "nbformat": 4,
 "nbformat_minor": 5
}
